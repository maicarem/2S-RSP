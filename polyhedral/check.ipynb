{
 "cells": [
  {
   "cell_type": "code",
   "execution_count": 21,
   "metadata": {},
   "outputs": [
    {
     "data": {
      "text/plain": [
       "(9, 9)"
      ]
     },
     "metadata": {},
     "output_type": "display_data"
    }
   ],
   "source": [
    "M = [0 0 0 0 0 0 0 0 0;\n",
    "     0 1 0 0 0 0 0 0 0;\n",
    "     0 0 1 0 0 0 0 0 0;\n",
    "     0 0 0 1 0 0 0 1 0;\n",
    "     0 0 0 0 1 0 0 1 0;\n",
    "     0 0 0 0 0 1 0 0 1;\n",
    "     0 0 0 0 0 0 1 0 1;\n",
    "     0 0 0 1 1 1 1 1 0;\n",
    "     0 0 0 1 1 1 1 0 1]\n",
    "size(M)"
   ]
  },
  {
   "cell_type": "code",
   "execution_count": 17,
   "metadata": {},
   "outputs": [
    {
     "data": {
      "text/plain": [
       "(8, 8)"
      ]
     },
     "metadata": {},
     "output_type": "display_data"
    }
   ],
   "source": [
    "M = [0 0 0 0 0 0 0 0 ;\n",
    "     0 1 0 0 0 0 0 0;\n",
    "     0 0 1 0 0 0 0 0 ;\n",
    "     0 0 0 1 0 0 0 0 ;\n",
    "     0 0 0 0 1 0 0 0 ;\n",
    "     0 0 0 0 0 1 0 1 ;\n",
    "     0 0 0 0 0 0 1 1 ;\n",
    "     0 0 0 1 1 1 1 0 ]\n",
    "size(M)"
   ]
  },
  {
   "cell_type": "code",
   "execution_count": 19,
   "metadata": {},
   "outputs": [
    {
     "data": {
      "text/plain": [
       "6"
      ]
     },
     "metadata": {},
     "output_type": "display_data"
    }
   ],
   "source": [
    "B = [1 0 0 0 1 1;\n",
    "     0 1 0 0 0 1;\n",
    "     0 0 1 0 1 0;\n",
    "     0 0 0 1 0 0;\n",
    "     1 1 1 1 0 1;\n",
    "     1 1 1 1 1 0;]\n",
    "rank(B)"
   ]
  },
  {
   "cell_type": "code",
   "execution_count": 23,
   "metadata": {},
   "outputs": [
    {
     "ename": "DimensionMismatch",
     "evalue": "DimensionMismatch: matrix is not square: dimensions are (9, 8)",
     "output_type": "error",
     "traceback": [
      "DimensionMismatch: matrix is not square: dimensions are (9, 8)\n",
      "\n",
      "Stacktrace:\n",
      " [1] checksquare\n",
      "   @ /Applications/Julia-1.8.app/Contents/Resources/julia/share/julia/stdlib/v1.8/LinearAlgebra/src/LinearAlgebra.jl:234 [inlined]\n",
      " [2] det(F::LU{Float64, Matrix{Float64}, Vector{Int64}})\n",
      "   @ LinearAlgebra /Applications/Julia-1.8.app/Contents/Resources/julia/share/julia/stdlib/v1.8/LinearAlgebra/src/lu.jl:456\n",
      " [3] det(A::Matrix{Int64})\n",
      "   @ LinearAlgebra /Applications/Julia-1.8.app/Contents/Resources/julia/share/julia/stdlib/v1.8/LinearAlgebra/src/generic.jl:1549\n",
      " [4] top-level scope\n",
      "   @ ~/Documents/2S-RSP/polyhedral/check.ipynb:10"
     ]
    }
   ],
   "source": [
    "M = [ 0 0 0 0 0 0 0 0;\n",
    "      1 0 0 0 0 0 0 0;\n",
    "      0 1 0 0 0 0 0 0;\n",
    "      0 0 1 0 0 0 1 0;\n",
    "      0 0 0 1 0 0 1 0;\n",
    "      0 0 0 0 1 0 0 1;\n",
    "      0 0 0 0 0 1 0 1;\n",
    "      0 0 1 1 1 1 1 0;\n",
    "      0 0 1 1 1 1 0 1]\n",
    "det(M)"
   ]
  },
  {
   "cell_type": "code",
   "execution_count": null,
   "metadata": {},
   "outputs": [],
   "source": []
  }
 ],
 "metadata": {
  "kernelspec": {
   "display_name": "Julia 1.8.5",
   "language": "julia",
   "name": "julia-1.8"
  },
  "language_info": {
   "file_extension": ".jl",
   "mimetype": "application/julia",
   "name": "julia",
   "version": "1.8.5"
  },
  "orig_nbformat": 4,
  "vscode": {
   "interpreter": {
    "hash": "b2366332eb48501b0e84db1a4aa1a6ae7c52b34d606b999400e7dbee444a9665"
   }
  }
 },
 "nbformat": 4,
 "nbformat_minor": 2
}
